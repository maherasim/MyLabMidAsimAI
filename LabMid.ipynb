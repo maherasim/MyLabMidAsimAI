{
  "nbformat": 4,
  "nbformat_minor": 0,
  "metadata": {
    "colab": {
      "provenance": []
    },
    "kernelspec": {
      "name": "python3",
      "display_name": "Python 3"
    },
    "language_info": {
      "name": "python"
    }
  },
  "cells": [
    {
      "cell_type": "markdown",
      "source": [
        "**Activity 1:**\n",
        "\n",
        "Consider a toy problem that can be represented as a following graph. How would you represent this graph in python?"
      ],
      "metadata": {
        "id": "JM8-qAFBHrMk"
      }
    },
    {
      "cell_type": "code",
      "execution_count": null,
      "metadata": {
        "id": "Y0grCJB1HOFM"
      },
      "outputs": [],
      "source": [
        "class Node:\n",
        "    def __init__(self,state,parent,actions,totalcost):\n",
        "        self.state=state\n",
        "        self.parent=parent\n",
        "        self.actions=actions\n",
        "        self.totalcost=totalcost\n",
        "\n",
        "graph={\n",
        "    'A':Node('A',None,['B','E','C'],None),\n",
        "    'B':Node('B',None,['D','E','A'],None),\n",
        "    'C':Node('C',None,['A','F','G'],None),\n",
        "    'D':Node('D',None,['B','E'],None),\n",
        "    'E':Node('E',None,['A','B','D'],None),\n",
        "    'F':Node('F',None,['C'],None),\n",
        "    'G':Node('G',None,['C'],None),\n",
        "}\n",
        "\n",
        "\n",
        "def DFS():\n",
        "  initialstate='A'\n",
        "  goalstate='G'\n",
        "\n",
        "\n",
        "  graph={\n",
        "      'A':Node('A',None,['B','E','C'],None),\n",
        "      'B':Node('B',None,['D','E','A'],None),\n",
        "      'C':Node('C',None,['A','F','G'],None),\n",
        "      'D':Node('D',None,['B','E'],None),\n",
        "      'E':Node('E',None,['A','B','D'],None),\n",
        "      'F':Node('F',None,['C'],None),\n",
        "      'G':Node('G',None,['C'],None),\n",
        "                  }\n",
        "\n"
      ]
    },
    {
      "cell_type": "markdown",
      "source": [
        "Activity 2"
      ],
      "metadata": {
        "id": "WO8GaVvRPiYQ"
      }
    },
    {
      "cell_type": "code",
      "source": [
        "class node:\n",
        "  def __init__(self,state,parent,actions,totalcost):\n",
        "    self.state = state\n",
        "    self.parent = parent\n",
        "    self.actions = actions\n",
        "    self.totalcost = totalcost\n",
        "\n",
        "def actionSequence(graph,initialstate,goalstate):\n",
        "  solution = [goalstate]\n",
        "  currentparent = graph[goalstate].parent\n",
        "  \n",
        "  while currentparent != None:\n",
        "    \n",
        "    solution.append(currentparent)\n",
        "    currentparent = graph[currentparent].parent\n",
        "\n",
        "  solution.reverse()\n",
        "  return solution\n",
        "\n",
        "def dfs(initialstate,goalstate):\n",
        "  \n",
        "  graph = {'A': node('A',None,['B','C','E'],None),\n",
        "           'B': node('B',None,['A','D','E'],None),\n",
        "           'C': node('C',None,['A','F','G'],None),\n",
        "           'D': node('D',None,['B','E'],None),\n",
        "           'E': node('E',None,['A','B','D'],None),\n",
        "           'F': node('F',None,['C'],None),\n",
        "           'G': node('G',None,['C'],None)\n",
        "          }\n",
        "  frontier = [initialstate]\n",
        "  explored = []\n",
        "  currentChildren = 0\n",
        "  while frontier:\n",
        "    currentnode = frontier.pop(len(frontier)-1)\n",
        "    explored.append(currentnode)\n",
        "    for child in graph[currentnode].actions:\n",
        "      if child not in frontier and child not in explored:\n",
        "        graph[child].parent = currentnode\n",
        "        if graph[child].state == goalstate:\n",
        "          # print(explored)\n",
        "          return actionSequence(graph,initialstate,goalstate)\n",
        "        currentChildren=currentChildren+1\n",
        "        frontier.append(child)\n",
        "  if currentChildren == 0 :\n",
        "    del explored[len(explored)-1]\n",
        "solution = dfs('A','D')\n",
        "print(solution)\n",
        "\n",
        "  \n"
      ],
      "metadata": {
        "colab": {
          "base_uri": "https://localhost:8080/"
        },
        "id": "E-YRmbAPPkvI",
        "outputId": "fa58e820-76e4-4003-e8c8-54774cad4b40"
      },
      "execution_count": null,
      "outputs": [
        {
          "output_type": "stream",
          "name": "stdout",
          "text": [
            "['A', 'E', 'D']\n"
          ]
        }
      ]
    },
    {
      "cell_type": "markdown",
      "source": [
        "**Activity No 3**"
      ],
      "metadata": {
        "id": "Z_azDcB_Pybw"
      }
    },
    {
      "cell_type": "code",
      "source": [
        "class node:\n",
        "  def __init__(self,state,parent,actions,totalcost):\n",
        "    self.state = state\n",
        "    self.parent = parent\n",
        "    self.actions = actions\n",
        "    self.totalcost = totalcost\n",
        "\n",
        "def actionSequence(graph,initialstate,goalstate):\n",
        "  solution = [goalstate]\n",
        "  currentparent = graph[goalstate].parent\n",
        "  \n",
        "  while currentparent != None:\n",
        "    \n",
        "    solution.append(currentparent)\n",
        "    currentparent = graph[currentparent].parent\n",
        "\n",
        "  solution.reverse()\n",
        "  return solution\n",
        "\n",
        "def bfs(initialstate,goalstate):\n",
        "  \n",
        "  graph = {'A': node('A',None,['B','C','E'],None),\n",
        "           'B': node('B',None,['A','D','E'],None),\n",
        "           'C': node('C',None,['A','F','G'],None),\n",
        "           'D': node('D',None,['B','E'],None),\n",
        "           'E': node('E',None,['A','B','D'],None),\n",
        "           'F': node('F',None,['C'],None),\n",
        "           'G': node('G',None,['C'],None)\n",
        "          }\n",
        "  frontier = [initialstate]\n",
        "  explored = []\n",
        "  while frontier:\n",
        "    currentnode = frontier.pop(0)\n",
        "    explored.append(currentnode)\n",
        "    for child in graph[currentnode].actions:\n",
        "      if child not in frontier and child not in explored:\n",
        "        graph[child].parent = currentnode\n",
        "        if graph[child].state == goalstate:\n",
        "          return actionSequence(graph,initialstate,goalstate)\n",
        "        frontier.append(child)\n",
        "solution = bfs('D','C')\n",
        "print(solution)\n",
        "\n",
        "\n",
        "  \n"
      ],
      "metadata": {
        "colab": {
          "base_uri": "https://localhost:8080/"
        },
        "id": "O5h3D02zP1DN",
        "outputId": "0c85467f-8da1-4128-8de1-8f026d915e67"
      },
      "execution_count": null,
      "outputs": [
        {
          "output_type": "stream",
          "name": "stdout",
          "text": [
            "['D', 'B', 'A', 'C']\n"
          ]
        }
      ]
    },
    {
      "cell_type": "markdown",
      "source": [
        "**Activity No:4**"
      ],
      "metadata": {
        "id": "cZ2zS9EnQWX8"
      }
    },
    {
      "cell_type": "code",
      "source": [
        "import math\n",
        "\n",
        "def findmin(frontier):\n",
        "    minV = math.inf\n",
        "    node = ''\n",
        "    for i in frontier:\n",
        "        if minV > frontier[i][1]:\n",
        "            minV = frontier[i][1]\n",
        "            node = i\n",
        "    return node\n",
        "\n",
        "def actionSequence(graph, initialstate, goalstate):\n",
        "    solution = [goalstate]\n",
        "    currentparent = graph[goalstate].parent\n",
        "    while currentparent is not None:\n",
        "        solution.append(currentparent)\n",
        "        currentparent = graph[currentparent].parent\n",
        "    solution.reverse()\n",
        "    return solution\n",
        "\n",
        "class node:\n",
        "    def __init__(self, state, parent, actions, totalcost):\n",
        "        self.state = state\n",
        "        self.parent = parent\n",
        "        self.actions = actions\n",
        "        self.totalcost = totalcost\n",
        "\n",
        "def UCS(initialstate, goalstate):\n",
        "    graph = {\n",
        "        'A': node('A', None, [('B', 6), ('C', 9), ('E', 1)], 0),\n",
        "        'B': node('B', None, [('A', 6), ('D', 3), ('E', 4)], 0),\n",
        "        'C': node('C', None, [('A', 9), ('F', 2), ('G', 3)], 0),\n",
        "        'D': node('D', None, [('B', 3), ('E', 5), ('F', 7)], 0),\n",
        "        'E': node('E', None, [('A', 1), ('B', 4), ('D', 5), ('F', 6)], 0),\n",
        "        'F': node('F', None, [('C', 2), ('E', 6), ('D', 7)], 0),\n",
        "        'G': node('G', None, [('C', 3)], 0)\n",
        "    }\n",
        "    frontier = dict()\n",
        "    frontier[initialstate] = (None, 0)\n",
        "    explored = []\n",
        "\n",
        "    while frontier:\n",
        "        currentnode = findmin(frontier)\n",
        "        del frontier[currentnode]\n",
        "        if graph[currentnode].state == goalstate:\n",
        "            return actionSequence(graph, initialstate, goalstate)\n",
        "        explored.append(currentnode)\n",
        "        for child in graph[currentnode].actions:\n",
        "            currentcost = child[1] + graph[currentnode].totalcost\n",
        "            if child[0] not in frontier and child[0] not in explored:\n",
        "                graph[child[0]].parent = currentnode\n",
        "                graph[child[0]].totalcost = currentcost\n",
        "                frontier[child[0]] = (graph[child[0]].parent, graph[child[0]].totalcost)\n",
        "            elif child[0] in frontier:\n",
        "                if frontier[child[0]][1] > currentcost:\n",
        "                    graph[child[0]].parent = currentnode\n",
        "                    graph[child[0]].totalcost = currentcost\n",
        "                    frontier[child[0]] = (graph[child[0]].parent, graph[child[0]].totalcost)\n",
        "\n",
        "solution = UCS('C', 'B')\n",
        "print(solution)\n"
      ],
      "metadata": {
        "colab": {
          "base_uri": "https://localhost:8080/"
        },
        "id": "3BbMSo-XQbrm",
        "outputId": "37079659-6504-4195-e5d8-a8ff768e5857"
      },
      "execution_count": 20,
      "outputs": [
        {
          "output_type": "stream",
          "name": "stdout",
          "text": [
            "['C', 'F', 'E', 'B']\n"
          ]
        }
      ]
    },
    {
      "cell_type": "markdown",
      "source": [
        "Activity No 5:"
      ],
      "metadata": {
        "id": "dUpvmJohS2Kh"
      }
    },
    {
      "cell_type": "code",
      "source": [
        "import heapq\n",
        "\n",
        "# Define the graph as a dictionary\n",
        "graph = {\n",
        "    'Arad': [('Zerind', 75), ('Timisoara', 118), ('Sibiu', 140)],\n",
        "    'Zerind': [('Oradea', 71), ('Arad', 75)],\n",
        "    'Oradea': [('Sibiu', 151), ('Zerind', 71)],\n",
        "    'Timisoara': [('Arad', 118), ('Lugoj', 111)],\n",
        "    'Lugoj': [('Timisoara', 111), ('Mehadia', 70)],\n",
        "    'Mehadia': [('Lugoj', 70), ('Drobeta', 75)],\n",
        "    'Drobeta': [('Mehadia', 75), ('Craiova', 120)],\n",
        "    'Sibiu': [('Arad', 140), ('Oradea', 151), ('Fagaras', 99), ('Rimnicu Vilcea', 80)],\n",
        "    'Fagaras': [('Sibiu', 99), ('Bucharest', 211)],\n",
        "    'Rimnicu Vilcea': [('Sibiu', 80), ('Craiova', 146), ('Pitesti', 97)],\n",
        "    'Craiova': [('Drobeta', 120), ('Rimnicu Vilcea', 146), ('Pitesti', 138)],\n",
        "    'Pitesti': [('Rimnicu Vilcea', 97), ('Craiova', 138), ('Bucharest', 101)],\n",
        "    'Bucharest': [('Fagaras', 211), ('Pitesti', 101)]\n",
        "}\n",
        "\n",
        "def uniform_cost_search(start, goal):\n",
        " \n",
        "    visited = {start: 0}\n",
        "    \n",
        "    path = {start: [start]}\n",
        "    # Initialize the heap with the start node and its cost\n",
        "    heap = [(0, start)]\n",
        "    \n",
        "    while heap:\n",
        "        # Pop the node with the lowest cost from the heap\n",
        "        (cost, current) = heapq.heappop(heap)\n",
        "        \n",
        "      \n",
        "        if current == goal:\n",
        "            return path[current]\n",
        "        \n",
        "       \n",
        "        for (neighbor, neighbor_cost) in graph[current]:\n",
        "          \n",
        "            new_cost = visited[current] + neighbor_cost\n",
        "            \n",
        "         \n",
        "            if neighbor not in visited or new_cost < visited[neighbor]:\n",
        "             \n",
        "                visited[neighbor] = new_cost\n",
        "                path[neighbor] = path[current] + [neighbor]\n",
        "                \n",
        "                heapq.heappush(heap, (new_cost, neighbor))\n",
        "                \n",
        "\n",
        "    return None\n",
        "\n",
        "\n",
        "start = 'Arad'\n",
        "goal = 'Bucharest'\n",
        "path = uniform_cost_search(start, goal)\n",
        "print(path)\n"
      ],
      "metadata": {
        "colab": {
          "base_uri": "https://localhost:8080/"
        },
        "id": "7TUNTh-8S4R7",
        "outputId": "1b946702-1246-401d-f881-cfd887a32c21"
      },
      "execution_count": null,
      "outputs": [
        {
          "output_type": "stream",
          "name": "stdout",
          "text": [
            "['Arad', 'Sibiu', 'Rimnicu Vilcea', 'Pitesti', 'Bucharest']\n"
          ]
        }
      ]
    }
  ]
}